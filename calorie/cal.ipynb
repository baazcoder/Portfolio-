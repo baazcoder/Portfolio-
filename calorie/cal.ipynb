{
 "cells": [
  {
   "cell_type": "code",
   "execution_count": 1,
   "id": "2d514359",
   "metadata": {},
   "outputs": [],
   "source": [
    "import pandas as pd\n",
    "import numpy as np\n",
    "import matplotlib.pyplot as plt\n",
    "import seaborn as sns\n",
    "import warnings\n",
    "from sklearn.model_selection import train_test_split,cross_val_score\n",
    "from sklearn.linear_model import LogisticRegression\n",
    "from sklearn.metrics import mean_absolute_error, mean_squared_error, r2_score\n",
    "from xgboost import XGBRegressor"
   ]
  },
  {
   "cell_type": "code",
   "execution_count": 2,
   "id": "3f6e207a",
   "metadata": {},
   "outputs": [],
   "source": [
    "cal_df = pd.read_csv('calories.csv')\n",
    "ex_df = pd.read_csv('exercise.csv')"
   ]
  },
  {
   "cell_type": "code",
   "execution_count": 3,
   "id": "cf246ee3",
   "metadata": {},
   "outputs": [
    {
     "data": {
      "application/vnd.microsoft.datawrangler.viewer.v0+json": {
       "columns": [
        {
         "name": "index",
         "rawType": "int64",
         "type": "integer"
        },
        {
         "name": "User_ID",
         "rawType": "int64",
         "type": "integer"
        },
        {
         "name": "Calories",
         "rawType": "float64",
         "type": "float"
        }
       ],
       "ref": "a0f959a3-1e7e-42d1-b92d-ecfbd8fa8a2c",
       "rows": [
        [
         "0",
         "14733363",
         "231.0"
        ],
        [
         "1",
         "14861698",
         "66.0"
        ],
        [
         "2",
         "11179863",
         "26.0"
        ],
        [
         "3",
         "16180408",
         "71.0"
        ],
        [
         "4",
         "17771927",
         "35.0"
        ]
       ],
       "shape": {
        "columns": 2,
        "rows": 5
       }
      },
      "text/html": [
       "<div>\n",
       "<style scoped>\n",
       "    .dataframe tbody tr th:only-of-type {\n",
       "        vertical-align: middle;\n",
       "    }\n",
       "\n",
       "    .dataframe tbody tr th {\n",
       "        vertical-align: top;\n",
       "    }\n",
       "\n",
       "    .dataframe thead th {\n",
       "        text-align: right;\n",
       "    }\n",
       "</style>\n",
       "<table border=\"1\" class=\"dataframe\">\n",
       "  <thead>\n",
       "    <tr style=\"text-align: right;\">\n",
       "      <th></th>\n",
       "      <th>User_ID</th>\n",
       "      <th>Calories</th>\n",
       "    </tr>\n",
       "  </thead>\n",
       "  <tbody>\n",
       "    <tr>\n",
       "      <th>0</th>\n",
       "      <td>14733363</td>\n",
       "      <td>231.0</td>\n",
       "    </tr>\n",
       "    <tr>\n",
       "      <th>1</th>\n",
       "      <td>14861698</td>\n",
       "      <td>66.0</td>\n",
       "    </tr>\n",
       "    <tr>\n",
       "      <th>2</th>\n",
       "      <td>11179863</td>\n",
       "      <td>26.0</td>\n",
       "    </tr>\n",
       "    <tr>\n",
       "      <th>3</th>\n",
       "      <td>16180408</td>\n",
       "      <td>71.0</td>\n",
       "    </tr>\n",
       "    <tr>\n",
       "      <th>4</th>\n",
       "      <td>17771927</td>\n",
       "      <td>35.0</td>\n",
       "    </tr>\n",
       "  </tbody>\n",
       "</table>\n",
       "</div>"
      ],
      "text/plain": [
       "    User_ID  Calories\n",
       "0  14733363     231.0\n",
       "1  14861698      66.0\n",
       "2  11179863      26.0\n",
       "3  16180408      71.0\n",
       "4  17771927      35.0"
      ]
     },
     "execution_count": 3,
     "metadata": {},
     "output_type": "execute_result"
    }
   ],
   "source": [
    "cal_df.head()"
   ]
  },
  {
   "cell_type": "code",
   "execution_count": 4,
   "id": "bb791d32",
   "metadata": {},
   "outputs": [
    {
     "data": {
      "application/vnd.microsoft.datawrangler.viewer.v0+json": {
       "columns": [
        {
         "name": "index",
         "rawType": "int64",
         "type": "integer"
        },
        {
         "name": "User_ID",
         "rawType": "int64",
         "type": "integer"
        },
        {
         "name": "Gender",
         "rawType": "object",
         "type": "string"
        },
        {
         "name": "Age",
         "rawType": "int64",
         "type": "integer"
        },
        {
         "name": "Height",
         "rawType": "float64",
         "type": "float"
        },
        {
         "name": "Weight",
         "rawType": "float64",
         "type": "float"
        },
        {
         "name": "Duration",
         "rawType": "float64",
         "type": "float"
        },
        {
         "name": "Heart_Rate",
         "rawType": "float64",
         "type": "float"
        },
        {
         "name": "Body_Temp",
         "rawType": "float64",
         "type": "float"
        }
       ],
       "ref": "19a5295c-96b5-4ea7-831e-1efece1ce898",
       "rows": [
        [
         "0",
         "14733363",
         "male",
         "68",
         "190.0",
         "94.0",
         "29.0",
         "105.0",
         "40.8"
        ],
        [
         "1",
         "14861698",
         "female",
         "20",
         "166.0",
         "60.0",
         "14.0",
         "94.0",
         "40.3"
        ],
        [
         "2",
         "11179863",
         "male",
         "69",
         "179.0",
         "79.0",
         "5.0",
         "88.0",
         "38.7"
        ],
        [
         "3",
         "16180408",
         "female",
         "34",
         "179.0",
         "71.0",
         "13.0",
         "100.0",
         "40.5"
        ],
        [
         "4",
         "17771927",
         "female",
         "27",
         "154.0",
         "58.0",
         "10.0",
         "81.0",
         "39.8"
        ]
       ],
       "shape": {
        "columns": 8,
        "rows": 5
       }
      },
      "text/html": [
       "<div>\n",
       "<style scoped>\n",
       "    .dataframe tbody tr th:only-of-type {\n",
       "        vertical-align: middle;\n",
       "    }\n",
       "\n",
       "    .dataframe tbody tr th {\n",
       "        vertical-align: top;\n",
       "    }\n",
       "\n",
       "    .dataframe thead th {\n",
       "        text-align: right;\n",
       "    }\n",
       "</style>\n",
       "<table border=\"1\" class=\"dataframe\">\n",
       "  <thead>\n",
       "    <tr style=\"text-align: right;\">\n",
       "      <th></th>\n",
       "      <th>User_ID</th>\n",
       "      <th>Gender</th>\n",
       "      <th>Age</th>\n",
       "      <th>Height</th>\n",
       "      <th>Weight</th>\n",
       "      <th>Duration</th>\n",
       "      <th>Heart_Rate</th>\n",
       "      <th>Body_Temp</th>\n",
       "    </tr>\n",
       "  </thead>\n",
       "  <tbody>\n",
       "    <tr>\n",
       "      <th>0</th>\n",
       "      <td>14733363</td>\n",
       "      <td>male</td>\n",
       "      <td>68</td>\n",
       "      <td>190.0</td>\n",
       "      <td>94.0</td>\n",
       "      <td>29.0</td>\n",
       "      <td>105.0</td>\n",
       "      <td>40.8</td>\n",
       "    </tr>\n",
       "    <tr>\n",
       "      <th>1</th>\n",
       "      <td>14861698</td>\n",
       "      <td>female</td>\n",
       "      <td>20</td>\n",
       "      <td>166.0</td>\n",
       "      <td>60.0</td>\n",
       "      <td>14.0</td>\n",
       "      <td>94.0</td>\n",
       "      <td>40.3</td>\n",
       "    </tr>\n",
       "    <tr>\n",
       "      <th>2</th>\n",
       "      <td>11179863</td>\n",
       "      <td>male</td>\n",
       "      <td>69</td>\n",
       "      <td>179.0</td>\n",
       "      <td>79.0</td>\n",
       "      <td>5.0</td>\n",
       "      <td>88.0</td>\n",
       "      <td>38.7</td>\n",
       "    </tr>\n",
       "    <tr>\n",
       "      <th>3</th>\n",
       "      <td>16180408</td>\n",
       "      <td>female</td>\n",
       "      <td>34</td>\n",
       "      <td>179.0</td>\n",
       "      <td>71.0</td>\n",
       "      <td>13.0</td>\n",
       "      <td>100.0</td>\n",
       "      <td>40.5</td>\n",
       "    </tr>\n",
       "    <tr>\n",
       "      <th>4</th>\n",
       "      <td>17771927</td>\n",
       "      <td>female</td>\n",
       "      <td>27</td>\n",
       "      <td>154.0</td>\n",
       "      <td>58.0</td>\n",
       "      <td>10.0</td>\n",
       "      <td>81.0</td>\n",
       "      <td>39.8</td>\n",
       "    </tr>\n",
       "  </tbody>\n",
       "</table>\n",
       "</div>"
      ],
      "text/plain": [
       "    User_ID  Gender  Age  Height  Weight  Duration  Heart_Rate  Body_Temp\n",
       "0  14733363    male   68   190.0    94.0      29.0       105.0       40.8\n",
       "1  14861698  female   20   166.0    60.0      14.0        94.0       40.3\n",
       "2  11179863    male   69   179.0    79.0       5.0        88.0       38.7\n",
       "3  16180408  female   34   179.0    71.0      13.0       100.0       40.5\n",
       "4  17771927  female   27   154.0    58.0      10.0        81.0       39.8"
      ]
     },
     "execution_count": 4,
     "metadata": {},
     "output_type": "execute_result"
    }
   ],
   "source": [
    "ex_df.head()"
   ]
  },
  {
   "cell_type": "code",
   "execution_count": 5,
   "id": "dc67004d",
   "metadata": {},
   "outputs": [],
   "source": [
    "df = pd.merge(ex_df,cal_df, on = 'User_ID')"
   ]
  },
  {
   "cell_type": "code",
   "execution_count": 6,
   "id": "b73023a2",
   "metadata": {},
   "outputs": [
    {
     "name": "stdout",
     "output_type": "stream",
     "text": [
      "<class 'pandas.core.frame.DataFrame'>\n",
      "RangeIndex: 15000 entries, 0 to 14999\n",
      "Data columns (total 9 columns):\n",
      " #   Column      Non-Null Count  Dtype  \n",
      "---  ------      --------------  -----  \n",
      " 0   User_ID     15000 non-null  int64  \n",
      " 1   Gender      15000 non-null  object \n",
      " 2   Age         15000 non-null  int64  \n",
      " 3   Height      15000 non-null  float64\n",
      " 4   Weight      15000 non-null  float64\n",
      " 5   Duration    15000 non-null  float64\n",
      " 6   Heart_Rate  15000 non-null  float64\n",
      " 7   Body_Temp   15000 non-null  float64\n",
      " 8   Calories    15000 non-null  float64\n",
      "dtypes: float64(6), int64(2), object(1)\n",
      "memory usage: 1.0+ MB\n"
     ]
    }
   ],
   "source": [
    "df.info(\n",
    "    \n",
    ")"
   ]
  },
  {
   "cell_type": "code",
   "execution_count": 7,
   "id": "15accd5a",
   "metadata": {},
   "outputs": [
    {
     "data": {
      "application/vnd.microsoft.datawrangler.viewer.v0+json": {
       "columns": [
        {
         "name": "index",
         "rawType": "object",
         "type": "string"
        },
        {
         "name": "User_ID",
         "rawType": "float64",
         "type": "float"
        },
        {
         "name": "Age",
         "rawType": "float64",
         "type": "float"
        },
        {
         "name": "Height",
         "rawType": "float64",
         "type": "float"
        },
        {
         "name": "Weight",
         "rawType": "float64",
         "type": "float"
        },
        {
         "name": "Duration",
         "rawType": "float64",
         "type": "float"
        },
        {
         "name": "Heart_Rate",
         "rawType": "float64",
         "type": "float"
        },
        {
         "name": "Body_Temp",
         "rawType": "float64",
         "type": "float"
        },
        {
         "name": "Calories",
         "rawType": "float64",
         "type": "float"
        }
       ],
       "ref": "84514e4a-8df9-4d44-bd71-f7ed1e31dae1",
       "rows": [
        [
         "count",
         "15000.0",
         "15000.0",
         "15000.0",
         "15000.0",
         "15000.0",
         "15000.0",
         "15000.0",
         "15000.0"
        ],
        [
         "mean",
         "14977358.538466666",
         "42.7898",
         "174.46513333333334",
         "74.96686666666666",
         "15.5306",
         "95.51853333333334",
         "40.02545333333334",
         "89.53953333333334"
        ],
        [
         "std",
         "2872851.4522327",
         "16.98026416907042",
         "14.258113616551187",
         "15.035656739246907",
         "8.319203342244775",
         "9.583328189839294",
         "0.7792299239893948",
         "62.45697795593845"
        ],
        [
         "min",
         "10001159.0",
         "20.0",
         "123.0",
         "36.0",
         "1.0",
         "67.0",
         "37.1",
         "1.0"
        ],
        [
         "25%",
         "12474190.75",
         "28.0",
         "164.0",
         "63.0",
         "8.0",
         "88.0",
         "39.6",
         "35.0"
        ],
        [
         "50%",
         "14997285.0",
         "39.0",
         "175.0",
         "74.0",
         "16.0",
         "96.0",
         "40.2",
         "79.0"
        ],
        [
         "75%",
         "17449278.75",
         "56.0",
         "185.0",
         "87.0",
         "23.0",
         "103.0",
         "40.6",
         "138.0"
        ],
        [
         "max",
         "19999647.0",
         "79.0",
         "222.0",
         "132.0",
         "30.0",
         "128.0",
         "41.5",
         "314.0"
        ]
       ],
       "shape": {
        "columns": 8,
        "rows": 8
       }
      },
      "text/html": [
       "<div>\n",
       "<style scoped>\n",
       "    .dataframe tbody tr th:only-of-type {\n",
       "        vertical-align: middle;\n",
       "    }\n",
       "\n",
       "    .dataframe tbody tr th {\n",
       "        vertical-align: top;\n",
       "    }\n",
       "\n",
       "    .dataframe thead th {\n",
       "        text-align: right;\n",
       "    }\n",
       "</style>\n",
       "<table border=\"1\" class=\"dataframe\">\n",
       "  <thead>\n",
       "    <tr style=\"text-align: right;\">\n",
       "      <th></th>\n",
       "      <th>User_ID</th>\n",
       "      <th>Age</th>\n",
       "      <th>Height</th>\n",
       "      <th>Weight</th>\n",
       "      <th>Duration</th>\n",
       "      <th>Heart_Rate</th>\n",
       "      <th>Body_Temp</th>\n",
       "      <th>Calories</th>\n",
       "    </tr>\n",
       "  </thead>\n",
       "  <tbody>\n",
       "    <tr>\n",
       "      <th>count</th>\n",
       "      <td>1.500000e+04</td>\n",
       "      <td>15000.000000</td>\n",
       "      <td>15000.000000</td>\n",
       "      <td>15000.000000</td>\n",
       "      <td>15000.000000</td>\n",
       "      <td>15000.000000</td>\n",
       "      <td>15000.000000</td>\n",
       "      <td>15000.000000</td>\n",
       "    </tr>\n",
       "    <tr>\n",
       "      <th>mean</th>\n",
       "      <td>1.497736e+07</td>\n",
       "      <td>42.789800</td>\n",
       "      <td>174.465133</td>\n",
       "      <td>74.966867</td>\n",
       "      <td>15.530600</td>\n",
       "      <td>95.518533</td>\n",
       "      <td>40.025453</td>\n",
       "      <td>89.539533</td>\n",
       "    </tr>\n",
       "    <tr>\n",
       "      <th>std</th>\n",
       "      <td>2.872851e+06</td>\n",
       "      <td>16.980264</td>\n",
       "      <td>14.258114</td>\n",
       "      <td>15.035657</td>\n",
       "      <td>8.319203</td>\n",
       "      <td>9.583328</td>\n",
       "      <td>0.779230</td>\n",
       "      <td>62.456978</td>\n",
       "    </tr>\n",
       "    <tr>\n",
       "      <th>min</th>\n",
       "      <td>1.000116e+07</td>\n",
       "      <td>20.000000</td>\n",
       "      <td>123.000000</td>\n",
       "      <td>36.000000</td>\n",
       "      <td>1.000000</td>\n",
       "      <td>67.000000</td>\n",
       "      <td>37.100000</td>\n",
       "      <td>1.000000</td>\n",
       "    </tr>\n",
       "    <tr>\n",
       "      <th>25%</th>\n",
       "      <td>1.247419e+07</td>\n",
       "      <td>28.000000</td>\n",
       "      <td>164.000000</td>\n",
       "      <td>63.000000</td>\n",
       "      <td>8.000000</td>\n",
       "      <td>88.000000</td>\n",
       "      <td>39.600000</td>\n",
       "      <td>35.000000</td>\n",
       "    </tr>\n",
       "    <tr>\n",
       "      <th>50%</th>\n",
       "      <td>1.499728e+07</td>\n",
       "      <td>39.000000</td>\n",
       "      <td>175.000000</td>\n",
       "      <td>74.000000</td>\n",
       "      <td>16.000000</td>\n",
       "      <td>96.000000</td>\n",
       "      <td>40.200000</td>\n",
       "      <td>79.000000</td>\n",
       "    </tr>\n",
       "    <tr>\n",
       "      <th>75%</th>\n",
       "      <td>1.744928e+07</td>\n",
       "      <td>56.000000</td>\n",
       "      <td>185.000000</td>\n",
       "      <td>87.000000</td>\n",
       "      <td>23.000000</td>\n",
       "      <td>103.000000</td>\n",
       "      <td>40.600000</td>\n",
       "      <td>138.000000</td>\n",
       "    </tr>\n",
       "    <tr>\n",
       "      <th>max</th>\n",
       "      <td>1.999965e+07</td>\n",
       "      <td>79.000000</td>\n",
       "      <td>222.000000</td>\n",
       "      <td>132.000000</td>\n",
       "      <td>30.000000</td>\n",
       "      <td>128.000000</td>\n",
       "      <td>41.500000</td>\n",
       "      <td>314.000000</td>\n",
       "    </tr>\n",
       "  </tbody>\n",
       "</table>\n",
       "</div>"
      ],
      "text/plain": [
       "            User_ID           Age        Height        Weight      Duration  \\\n",
       "count  1.500000e+04  15000.000000  15000.000000  15000.000000  15000.000000   \n",
       "mean   1.497736e+07     42.789800    174.465133     74.966867     15.530600   \n",
       "std    2.872851e+06     16.980264     14.258114     15.035657      8.319203   \n",
       "min    1.000116e+07     20.000000    123.000000     36.000000      1.000000   \n",
       "25%    1.247419e+07     28.000000    164.000000     63.000000      8.000000   \n",
       "50%    1.499728e+07     39.000000    175.000000     74.000000     16.000000   \n",
       "75%    1.744928e+07     56.000000    185.000000     87.000000     23.000000   \n",
       "max    1.999965e+07     79.000000    222.000000    132.000000     30.000000   \n",
       "\n",
       "         Heart_Rate     Body_Temp      Calories  \n",
       "count  15000.000000  15000.000000  15000.000000  \n",
       "mean      95.518533     40.025453     89.539533  \n",
       "std        9.583328      0.779230     62.456978  \n",
       "min       67.000000     37.100000      1.000000  \n",
       "25%       88.000000     39.600000     35.000000  \n",
       "50%       96.000000     40.200000     79.000000  \n",
       "75%      103.000000     40.600000    138.000000  \n",
       "max      128.000000     41.500000    314.000000  "
      ]
     },
     "execution_count": 7,
     "metadata": {},
     "output_type": "execute_result"
    }
   ],
   "source": [
    "df.describe()"
   ]
  },
  {
   "cell_type": "code",
   "execution_count": 8,
   "id": "447b40be",
   "metadata": {},
   "outputs": [
    {
     "data": {
      "application/vnd.microsoft.datawrangler.viewer.v0+json": {
       "columns": [
        {
         "name": "index",
         "rawType": "object",
         "type": "string"
        },
        {
         "name": "0",
         "rawType": "float64",
         "type": "float"
        }
       ],
       "ref": "2ff3f33e-6124-424b-a2c7-e2acd8ebd965",
       "rows": [
        [
         "User_ID",
         "0.0"
        ],
        [
         "Gender",
         "0.0"
        ],
        [
         "Age",
         "0.0"
        ],
        [
         "Height",
         "0.0"
        ],
        [
         "Weight",
         "0.0"
        ],
        [
         "Duration",
         "0.0"
        ],
        [
         "Heart_Rate",
         "0.0"
        ],
        [
         "Body_Temp",
         "0.0"
        ],
        [
         "Calories",
         "0.0"
        ]
       ],
       "shape": {
        "columns": 1,
        "rows": 9
       }
      },
      "text/plain": [
       "User_ID       0.0\n",
       "Gender        0.0\n",
       "Age           0.0\n",
       "Height        0.0\n",
       "Weight        0.0\n",
       "Duration      0.0\n",
       "Heart_Rate    0.0\n",
       "Body_Temp     0.0\n",
       "Calories      0.0\n",
       "dtype: float64"
      ]
     },
     "execution_count": 8,
     "metadata": {},
     "output_type": "execute_result"
    }
   ],
   "source": [
    "df.isnull().sum()*100/len(df)"
   ]
  },
  {
   "cell_type": "code",
   "execution_count": 9,
   "id": "307028de",
   "metadata": {},
   "outputs": [],
   "source": [
    "df = df.drop(columns= {'User_ID'})"
   ]
  },
  {
   "cell_type": "code",
   "execution_count": 10,
   "id": "ee761e77",
   "metadata": {},
   "outputs": [],
   "source": [
    "df['Gender'] = df['Gender'].apply(lambda x : 1 if x == 'female' else 0)"
   ]
  },
  {
   "cell_type": "code",
   "execution_count": 11,
   "id": "9039177a",
   "metadata": {},
   "outputs": [
    {
     "data": {
      "application/vnd.microsoft.datawrangler.viewer.v0+json": {
       "columns": [
        {
         "name": "index",
         "rawType": "int64",
         "type": "integer"
        },
        {
         "name": "Gender",
         "rawType": "int64",
         "type": "integer"
        },
        {
         "name": "Age",
         "rawType": "int64",
         "type": "integer"
        },
        {
         "name": "Height",
         "rawType": "float64",
         "type": "float"
        },
        {
         "name": "Weight",
         "rawType": "float64",
         "type": "float"
        },
        {
         "name": "Duration",
         "rawType": "float64",
         "type": "float"
        },
        {
         "name": "Heart_Rate",
         "rawType": "float64",
         "type": "float"
        },
        {
         "name": "Body_Temp",
         "rawType": "float64",
         "type": "float"
        },
        {
         "name": "Calories",
         "rawType": "float64",
         "type": "float"
        }
       ],
       "ref": "a74e6d38-4dab-4918-b776-1b5024bbf87e",
       "rows": [
        [
         "0",
         "0",
         "68",
         "190.0",
         "94.0",
         "29.0",
         "105.0",
         "40.8",
         "231.0"
        ],
        [
         "1",
         "1",
         "20",
         "166.0",
         "60.0",
         "14.0",
         "94.0",
         "40.3",
         "66.0"
        ],
        [
         "2",
         "0",
         "69",
         "179.0",
         "79.0",
         "5.0",
         "88.0",
         "38.7",
         "26.0"
        ],
        [
         "3",
         "1",
         "34",
         "179.0",
         "71.0",
         "13.0",
         "100.0",
         "40.5",
         "71.0"
        ],
        [
         "4",
         "1",
         "27",
         "154.0",
         "58.0",
         "10.0",
         "81.0",
         "39.8",
         "35.0"
        ],
        [
         "5",
         "1",
         "36",
         "151.0",
         "50.0",
         "23.0",
         "96.0",
         "40.7",
         "123.0"
        ],
        [
         "6",
         "1",
         "33",
         "158.0",
         "56.0",
         "22.0",
         "95.0",
         "40.5",
         "112.0"
        ],
        [
         "7",
         "0",
         "41",
         "175.0",
         "85.0",
         "25.0",
         "100.0",
         "40.7",
         "143.0"
        ],
        [
         "8",
         "0",
         "60",
         "186.0",
         "94.0",
         "21.0",
         "97.0",
         "40.4",
         "134.0"
        ],
        [
         "9",
         "1",
         "26",
         "146.0",
         "51.0",
         "16.0",
         "90.0",
         "40.2",
         "72.0"
        ],
        [
         "10",
         "1",
         "36",
         "177.0",
         "76.0",
         "1.0",
         "74.0",
         "37.8",
         "3.0"
        ],
        [
         "11",
         "1",
         "21",
         "157.0",
         "56.0",
         "17.0",
         "100.0",
         "40.0",
         "92.0"
        ],
        [
         "12",
         "0",
         "66",
         "171.0",
         "79.0",
         "11.0",
         "90.0",
         "40.0",
         "58.0"
        ],
        [
         "13",
         "1",
         "32",
         "157.0",
         "54.0",
         "18.0",
         "93.0",
         "40.4",
         "88.0"
        ],
        [
         "14",
         "0",
         "53",
         "182.0",
         "85.0",
         "2.0",
         "82.0",
         "38.1",
         "7.0"
        ],
        [
         "15",
         "1",
         "39",
         "156.0",
         "62.0",
         "28.0",
         "104.0",
         "40.8",
         "170.0"
        ],
        [
         "16",
         "0",
         "39",
         "182.0",
         "82.0",
         "4.0",
         "82.0",
         "38.6",
         "11.0"
        ],
        [
         "17",
         "0",
         "46",
         "169.0",
         "67.0",
         "11.0",
         "89.0",
         "40.2",
         "43.0"
        ],
        [
         "18",
         "1",
         "27",
         "171.0",
         "65.0",
         "4.0",
         "85.0",
         "38.6",
         "15.0"
        ],
        [
         "19",
         "0",
         "50",
         "188.0",
         "86.0",
         "14.0",
         "94.0",
         "40.2",
         "74.0"
        ],
        [
         "20",
         "0",
         "67",
         "189.0",
         "93.0",
         "8.0",
         "77.0",
         "39.2",
         "29.0"
        ],
        [
         "21",
         "1",
         "31",
         "148.0",
         "50.0",
         "8.0",
         "84.0",
         "39.5",
         "32.0"
        ],
        [
         "22",
         "1",
         "33",
         "157.0",
         "60.0",
         "3.0",
         "80.0",
         "38.7",
         "10.0"
        ],
        [
         "23",
         "1",
         "20",
         "165.0",
         "59.0",
         "29.0",
         "100.0",
         "41.0",
         "155.0"
        ],
        [
         "24",
         "0",
         "48",
         "182.0",
         "85.0",
         "1.0",
         "80.0",
         "37.7",
         "3.0"
        ],
        [
         "25",
         "0",
         "29",
         "176.0",
         "75.0",
         "10.0",
         "83.0",
         "39.7",
         "24.0"
        ],
        [
         "26",
         "0",
         "33",
         "173.0",
         "73.0",
         "7.0",
         "78.0",
         "39.3",
         "12.0"
        ],
        [
         "27",
         "0",
         "42",
         "190.0",
         "88.0",
         "3.0",
         "83.0",
         "38.9",
         "10.0"
        ],
        [
         "28",
         "1",
         "62",
         "159.0",
         "59.0",
         "29.0",
         "106.0",
         "41.2",
         "195.0"
        ],
        [
         "29",
         "0",
         "38",
         "171.0",
         "75.0",
         "2.0",
         "81.0",
         "38.2",
         "5.0"
        ],
        [
         "30",
         "0",
         "20",
         "183.0",
         "88.0",
         "16.0",
         "97.0",
         "40.5",
         "69.0"
        ],
        [
         "31",
         "1",
         "25",
         "160.0",
         "59.0",
         "24.0",
         "102.0",
         "40.3",
         "136.0"
        ],
        [
         "32",
         "1",
         "24",
         "165.0",
         "59.0",
         "18.0",
         "91.0",
         "40.2",
         "80.0"
        ],
        [
         "33",
         "1",
         "42",
         "165.0",
         "68.0",
         "22.0",
         "93.0",
         "40.8",
         "107.0"
        ],
        [
         "34",
         "0",
         "22",
         "182.0",
         "84.0",
         "29.0",
         "114.0",
         "41.0",
         "200.0"
        ],
        [
         "35",
         "1",
         "74",
         "158.0",
         "59.0",
         "10.0",
         "93.0",
         "39.6",
         "56.0"
        ],
        [
         "36",
         "1",
         "70",
         "154.0",
         "59.0",
         "10.0",
         "88.0",
         "40.0",
         "50.0"
        ],
        [
         "37",
         "1",
         "26",
         "182.0",
         "80.0",
         "21.0",
         "96.0",
         "40.5",
         "100.0"
        ],
        [
         "38",
         "0",
         "44",
         "184.0",
         "86.0",
         "25.0",
         "114.0",
         "40.8",
         "200.0"
        ],
        [
         "39",
         "0",
         "61",
         "183.0",
         "86.0",
         "1.0",
         "81.0",
         "38.3",
         "4.0"
        ],
        [
         "40",
         "1",
         "68",
         "157.0",
         "57.0",
         "13.0",
         "92.0",
         "40.1",
         "70.0"
        ],
        [
         "41",
         "1",
         "61",
         "176.0",
         "70.0",
         "20.0",
         "104.0",
         "40.5",
         "127.0"
        ],
        [
         "42",
         "0",
         "63",
         "179.0",
         "80.0",
         "25.0",
         "108.0",
         "40.8",
         "197.0"
        ],
        [
         "43",
         "1",
         "54",
         "171.0",
         "66.0",
         "20.0",
         "98.0",
         "40.1",
         "113.0"
        ],
        [
         "44",
         "1",
         "54",
         "169.0",
         "66.0",
         "3.0",
         "80.0",
         "38.9",
         "11.0"
        ],
        [
         "45",
         "1",
         "47",
         "155.0",
         "55.0",
         "16.0",
         "93.0",
         "40.5",
         "82.0"
        ],
        [
         "46",
         "0",
         "33",
         "184.0",
         "86.0",
         "8.0",
         "86.0",
         "39.9",
         "26.0"
        ],
        [
         "47",
         "1",
         "24",
         "171.0",
         "66.0",
         "24.0",
         "105.0",
         "40.6",
         "141.0"
        ],
        [
         "48",
         "0",
         "24",
         "195.0",
         "98.0",
         "20.0",
         "96.0",
         "40.6",
         "92.0"
        ],
        [
         "49",
         "0",
         "48",
         "152.0",
         "59.0",
         "2.0",
         "79.0",
         "38.0",
         "5.0"
        ]
       ],
       "shape": {
        "columns": 8,
        "rows": 15000
       }
      },
      "text/html": [
       "<div>\n",
       "<style scoped>\n",
       "    .dataframe tbody tr th:only-of-type {\n",
       "        vertical-align: middle;\n",
       "    }\n",
       "\n",
       "    .dataframe tbody tr th {\n",
       "        vertical-align: top;\n",
       "    }\n",
       "\n",
       "    .dataframe thead th {\n",
       "        text-align: right;\n",
       "    }\n",
       "</style>\n",
       "<table border=\"1\" class=\"dataframe\">\n",
       "  <thead>\n",
       "    <tr style=\"text-align: right;\">\n",
       "      <th></th>\n",
       "      <th>Gender</th>\n",
       "      <th>Age</th>\n",
       "      <th>Height</th>\n",
       "      <th>Weight</th>\n",
       "      <th>Duration</th>\n",
       "      <th>Heart_Rate</th>\n",
       "      <th>Body_Temp</th>\n",
       "      <th>Calories</th>\n",
       "    </tr>\n",
       "  </thead>\n",
       "  <tbody>\n",
       "    <tr>\n",
       "      <th>0</th>\n",
       "      <td>0</td>\n",
       "      <td>68</td>\n",
       "      <td>190.0</td>\n",
       "      <td>94.0</td>\n",
       "      <td>29.0</td>\n",
       "      <td>105.0</td>\n",
       "      <td>40.8</td>\n",
       "      <td>231.0</td>\n",
       "    </tr>\n",
       "    <tr>\n",
       "      <th>1</th>\n",
       "      <td>1</td>\n",
       "      <td>20</td>\n",
       "      <td>166.0</td>\n",
       "      <td>60.0</td>\n",
       "      <td>14.0</td>\n",
       "      <td>94.0</td>\n",
       "      <td>40.3</td>\n",
       "      <td>66.0</td>\n",
       "    </tr>\n",
       "    <tr>\n",
       "      <th>2</th>\n",
       "      <td>0</td>\n",
       "      <td>69</td>\n",
       "      <td>179.0</td>\n",
       "      <td>79.0</td>\n",
       "      <td>5.0</td>\n",
       "      <td>88.0</td>\n",
       "      <td>38.7</td>\n",
       "      <td>26.0</td>\n",
       "    </tr>\n",
       "    <tr>\n",
       "      <th>3</th>\n",
       "      <td>1</td>\n",
       "      <td>34</td>\n",
       "      <td>179.0</td>\n",
       "      <td>71.0</td>\n",
       "      <td>13.0</td>\n",
       "      <td>100.0</td>\n",
       "      <td>40.5</td>\n",
       "      <td>71.0</td>\n",
       "    </tr>\n",
       "    <tr>\n",
       "      <th>4</th>\n",
       "      <td>1</td>\n",
       "      <td>27</td>\n",
       "      <td>154.0</td>\n",
       "      <td>58.0</td>\n",
       "      <td>10.0</td>\n",
       "      <td>81.0</td>\n",
       "      <td>39.8</td>\n",
       "      <td>35.0</td>\n",
       "    </tr>\n",
       "    <tr>\n",
       "      <th>...</th>\n",
       "      <td>...</td>\n",
       "      <td>...</td>\n",
       "      <td>...</td>\n",
       "      <td>...</td>\n",
       "      <td>...</td>\n",
       "      <td>...</td>\n",
       "      <td>...</td>\n",
       "      <td>...</td>\n",
       "    </tr>\n",
       "    <tr>\n",
       "      <th>14995</th>\n",
       "      <td>1</td>\n",
       "      <td>20</td>\n",
       "      <td>193.0</td>\n",
       "      <td>86.0</td>\n",
       "      <td>11.0</td>\n",
       "      <td>92.0</td>\n",
       "      <td>40.4</td>\n",
       "      <td>45.0</td>\n",
       "    </tr>\n",
       "    <tr>\n",
       "      <th>14996</th>\n",
       "      <td>1</td>\n",
       "      <td>27</td>\n",
       "      <td>165.0</td>\n",
       "      <td>65.0</td>\n",
       "      <td>6.0</td>\n",
       "      <td>85.0</td>\n",
       "      <td>39.2</td>\n",
       "      <td>23.0</td>\n",
       "    </tr>\n",
       "    <tr>\n",
       "      <th>14997</th>\n",
       "      <td>1</td>\n",
       "      <td>43</td>\n",
       "      <td>159.0</td>\n",
       "      <td>58.0</td>\n",
       "      <td>16.0</td>\n",
       "      <td>90.0</td>\n",
       "      <td>40.1</td>\n",
       "      <td>75.0</td>\n",
       "    </tr>\n",
       "    <tr>\n",
       "      <th>14998</th>\n",
       "      <td>0</td>\n",
       "      <td>78</td>\n",
       "      <td>193.0</td>\n",
       "      <td>97.0</td>\n",
       "      <td>2.0</td>\n",
       "      <td>84.0</td>\n",
       "      <td>38.3</td>\n",
       "      <td>11.0</td>\n",
       "    </tr>\n",
       "    <tr>\n",
       "      <th>14999</th>\n",
       "      <td>0</td>\n",
       "      <td>63</td>\n",
       "      <td>173.0</td>\n",
       "      <td>79.0</td>\n",
       "      <td>18.0</td>\n",
       "      <td>92.0</td>\n",
       "      <td>40.5</td>\n",
       "      <td>98.0</td>\n",
       "    </tr>\n",
       "  </tbody>\n",
       "</table>\n",
       "<p>15000 rows × 8 columns</p>\n",
       "</div>"
      ],
      "text/plain": [
       "       Gender  Age  Height  Weight  Duration  Heart_Rate  Body_Temp  Calories\n",
       "0           0   68   190.0    94.0      29.0       105.0       40.8     231.0\n",
       "1           1   20   166.0    60.0      14.0        94.0       40.3      66.0\n",
       "2           0   69   179.0    79.0       5.0        88.0       38.7      26.0\n",
       "3           1   34   179.0    71.0      13.0       100.0       40.5      71.0\n",
       "4           1   27   154.0    58.0      10.0        81.0       39.8      35.0\n",
       "...       ...  ...     ...     ...       ...         ...        ...       ...\n",
       "14995       1   20   193.0    86.0      11.0        92.0       40.4      45.0\n",
       "14996       1   27   165.0    65.0       6.0        85.0       39.2      23.0\n",
       "14997       1   43   159.0    58.0      16.0        90.0       40.1      75.0\n",
       "14998       0   78   193.0    97.0       2.0        84.0       38.3      11.0\n",
       "14999       0   63   173.0    79.0      18.0        92.0       40.5      98.0\n",
       "\n",
       "[15000 rows x 8 columns]"
      ]
     },
     "execution_count": 11,
     "metadata": {},
     "output_type": "execute_result"
    }
   ],
   "source": [
    "df"
   ]
  },
  {
   "cell_type": "markdown",
   "id": "e3f52e18",
   "metadata": {},
   "source": [
    "## visualization"
   ]
  },
  {
   "cell_type": "code",
   "execution_count": 12,
   "id": "872487c1",
   "metadata": {},
   "outputs": [
    {
     "data": {
      "text/plain": [
       "Index(['Gender', 'Age', 'Height', 'Weight', 'Duration', 'Heart_Rate',\n",
       "       'Body_Temp', 'Calories'],\n",
       "      dtype='object')"
      ]
     },
     "execution_count": 12,
     "metadata": {},
     "output_type": "execute_result"
    }
   ],
   "source": [
    "df.columns"
   ]
  },
  {
   "cell_type": "code",
   "execution_count": 13,
   "id": "96558c4d",
   "metadata": {},
   "outputs": [
    {
     "name": "stderr",
     "output_type": "stream",
     "text": [
      "C:\\Users\\sandh\\AppData\\Local\\Temp\\ipykernel_34044\\1475586201.py:7: UserWarning: Ignoring `palette` because no `hue` variable has been assigned.\n",
      "  sns.histplot(df[col], bins=20, kde=True, palette= 'rainbow')\n",
      "C:\\Users\\sandh\\AppData\\Local\\Temp\\ipykernel_34044\\1475586201.py:7: UserWarning: Ignoring `palette` because no `hue` variable has been assigned.\n",
      "  sns.histplot(df[col], bins=20, kde=True, palette= 'rainbow')\n",
      "C:\\Users\\sandh\\AppData\\Local\\Temp\\ipykernel_34044\\1475586201.py:7: UserWarning: Ignoring `palette` because no `hue` variable has been assigned.\n",
      "  sns.histplot(df[col], bins=20, kde=True, palette= 'rainbow')\n",
      "C:\\Users\\sandh\\AppData\\Local\\Temp\\ipykernel_34044\\1475586201.py:7: UserWarning: Ignoring `palette` because no `hue` variable has been assigned.\n",
      "  sns.histplot(df[col], bins=20, kde=True, palette= 'rainbow')\n",
      "C:\\Users\\sandh\\AppData\\Local\\Temp\\ipykernel_34044\\1475586201.py:7: UserWarning: Ignoring `palette` because no `hue` variable has been assigned.\n",
      "  sns.histplot(df[col], bins=20, kde=True, palette= 'rainbow')\n",
      "C:\\Users\\sandh\\AppData\\Local\\Temp\\ipykernel_34044\\1475586201.py:7: UserWarning: Ignoring `palette` because no `hue` variable has been assigned.\n",
      "  sns.histplot(df[col], bins=20, kde=True, palette= 'rainbow')\n",
      "C:\\Users\\sandh\\AppData\\Local\\Temp\\ipykernel_34044\\1475586201.py:7: UserWarning: Ignoring `palette` because no `hue` variable has been assigned.\n",
      "  sns.histplot(df[col], bins=20, kde=True, palette= 'rainbow')\n",
      "C:\\Users\\sandh\\AppData\\Local\\Temp\\ipykernel_34044\\1475586201.py:7: UserWarning: Ignoring `palette` because no `hue` variable has been assigned.\n",
      "  sns.histplot(df[col], bins=20, kde=True, palette= 'rainbow')\n"
     ]
    },
    {
     "data": {
      "image/png": "[encoded data removed]",
      "text/plain": [
       "<Figure size 1000x600 with 8 Axes>"
      ]
     },
     "metadata": {},
     "output_type": "display_data"
    }
   ],
   "source": [
    "cols = ['Age','Gender', 'Height', 'Weight', 'Duration', 'Heart_Rate',\n",
    "       'Body_Temp', 'Calories']\n",
    "\n",
    "plt.figure(figsize = (10,6))\n",
    "for i,col in enumerate(cols):\n",
    "    plt.subplot(2,4,i+1)\n",
    "    sns.histplot(df[col], bins=20, kde=True, palette= 'rainbow')\n",
    "    plt.tight_layout()"
   ]
  },
  {
   "cell_type": "code",
   "execution_count": 14,
   "id": "94c1db4d",
   "metadata": {},
   "outputs": [
    {
     "data": {
      "text/plain": [
       "<Axes: >"
      ]
     },
     "execution_count": 14,
     "metadata": {},
     "output_type": "execute_result"
    },
    {
     "data": {
      "image/png": "[encoded data removed]",
      "text/plain": [
       "<Figure size 640x480 with 2 Axes>"
      ]
     },
     "metadata": {},
     "output_type": "display_data"
    }
   ],
   "source": [
    "sns.heatmap(df.corr(numeric_only= True),annot = True)"
   ]
  },
  {
   "cell_type": "code",
   "execution_count": 15,
   "id": "cfa462e2",
   "metadata": {},
   "outputs": [
    {
     "data": {
      "application/vnd.microsoft.datawrangler.viewer.v0+json": {
       "columns": [
        {
         "name": "index",
         "rawType": "int64",
         "type": "integer"
        },
        {
         "name": "Gender",
         "rawType": "int64",
         "type": "integer"
        },
        {
         "name": "Age",
         "rawType": "int64",
         "type": "integer"
        },
        {
         "name": "Height",
         "rawType": "float64",
         "type": "float"
        },
        {
         "name": "Weight",
         "rawType": "float64",
         "type": "float"
        },
        {
         "name": "Duration",
         "rawType": "float64",
         "type": "float"
        },
        {
         "name": "Heart_Rate",
         "rawType": "float64",
         "type": "float"
        },
        {
         "name": "Body_Temp",
         "rawType": "float64",
         "type": "float"
        },
        {
         "name": "Calories",
         "rawType": "float64",
         "type": "float"
        }
       ],
       "ref": "09adf218-6f18-4331-85e2-ea80d700b7bf",
       "rows": [
        [
         "0",
         "0",
         "68",
         "190.0",
         "94.0",
         "29.0",
         "105.0",
         "40.8",
         "231.0"
        ],
        [
         "1",
         "1",
         "20",
         "166.0",
         "60.0",
         "14.0",
         "94.0",
         "40.3",
         "66.0"
        ],
        [
         "2",
         "0",
         "69",
         "179.0",
         "79.0",
         "5.0",
         "88.0",
         "38.7",
         "26.0"
        ],
        [
         "3",
         "1",
         "34",
         "179.0",
         "71.0",
         "13.0",
         "100.0",
         "40.5",
         "71.0"
        ],
        [
         "4",
         "1",
         "27",
         "154.0",
         "58.0",
         "10.0",
         "81.0",
         "39.8",
         "35.0"
        ],
        [
         "5",
         "1",
         "36",
         "151.0",
         "50.0",
         "23.0",
         "96.0",
         "40.7",
         "123.0"
        ],
        [
         "6",
         "1",
         "33",
         "158.0",
         "56.0",
         "22.0",
         "95.0",
         "40.5",
         "112.0"
        ],
        [
         "7",
         "0",
         "41",
         "175.0",
         "85.0",
         "25.0",
         "100.0",
         "40.7",
         "143.0"
        ],
        [
         "8",
         "0",
         "60",
         "186.0",
         "94.0",
         "21.0",
         "97.0",
         "40.4",
         "134.0"
        ],
        [
         "9",
         "1",
         "26",
         "146.0",
         "51.0",
         "16.0",
         "90.0",
         "40.2",
         "72.0"
        ],
        [
         "10",
         "1",
         "36",
         "177.0",
         "76.0",
         "1.0",
         "74.0",
         "37.8",
         "3.0"
        ],
        [
         "11",
         "1",
         "21",
         "157.0",
         "56.0",
         "17.0",
         "100.0",
         "40.0",
         "92.0"
        ],
        [
         "12",
         "0",
         "66",
         "171.0",
         "79.0",
         "11.0",
         "90.0",
         "40.0",
         "58.0"
        ],
        [
         "13",
         "1",
         "32",
         "157.0",
         "54.0",
         "18.0",
         "93.0",
         "40.4",
         "88.0"
        ],
        [
         "14",
         "0",
         "53",
         "182.0",
         "85.0",
         "2.0",
         "82.0",
         "38.1",
         "7.0"
        ],
        [
         "15",
         "1",
         "39",
         "156.0",
         "62.0",
         "28.0",
         "104.0",
         "40.8",
         "170.0"
        ],
        [
         "16",
         "0",
         "39",
         "182.0",
         "82.0",
         "4.0",
         "82.0",
         "38.6",
         "11.0"
        ],
        [
         "17",
         "0",
         "46",
         "169.0",
         "67.0",
         "11.0",
         "89.0",
         "40.2",
         "43.0"
        ],
        [
         "18",
         "1",
         "27",
         "171.0",
         "65.0",
         "4.0",
         "85.0",
         "38.6",
         "15.0"
        ],
        [
         "19",
         "0",
         "50",
         "188.0",
         "86.0",
         "14.0",
         "94.0",
         "40.2",
         "74.0"
        ],
        [
         "20",
         "0",
         "67",
         "189.0",
         "93.0",
         "8.0",
         "77.0",
         "39.2",
         "29.0"
        ],
        [
         "21",
         "1",
         "31",
         "148.0",
         "50.0",
         "8.0",
         "84.0",
         "39.5",
         "32.0"
        ],
        [
         "22",
         "1",
         "33",
         "157.0",
         "60.0",
         "3.0",
         "80.0",
         "38.7",
         "10.0"
        ],
        [
         "23",
         "1",
         "20",
         "165.0",
         "59.0",
         "29.0",
         "100.0",
         "41.0",
         "155.0"
        ],
        [
         "24",
         "0",
         "48",
         "182.0",
         "85.0",
         "1.0",
         "80.0",
         "37.7",
         "3.0"
        ],
        [
         "25",
         "0",
         "29",
         "176.0",
         "75.0",
         "10.0",
         "83.0",
         "39.7",
         "24.0"
        ],
        [
         "26",
         "0",
         "33",
         "173.0",
         "73.0",
         "7.0",
         "78.0",
         "39.3",
         "12.0"
        ],
        [
         "27",
         "0",
         "42",
         "190.0",
         "88.0",
         "3.0",
         "83.0",
         "38.9",
         "10.0"
        ],
        [
         "28",
         "1",
         "62",
         "159.0",
         "59.0",
         "29.0",
         "106.0",
         "41.2",
         "195.0"
        ],
        [
         "29",
         "0",
         "38",
         "171.0",
         "75.0",
         "2.0",
         "81.0",
         "38.2",
         "5.0"
        ],
        [
         "30",
         "0",
         "20",
         "183.0",
         "88.0",
         "16.0",
         "97.0",
         "40.5",
         "69.0"
        ],
        [
         "31",
         "1",
         "25",
         "160.0",
         "59.0",
         "24.0",
         "102.0",
         "40.3",
         "136.0"
        ],
        [
         "32",
         "1",
         "24",
         "165.0",
         "59.0",
         "18.0",
         "91.0",
         "40.2",
         "80.0"
        ],
        [
         "33",
         "1",
         "42",
         "165.0",
         "68.0",
         "22.0",
         "93.0",
         "40.8",
         "107.0"
        ],
        [
         "34",
         "0",
         "22",
         "182.0",
         "84.0",
         "29.0",
         "114.0",
         "41.0",
         "200.0"
        ],
        [
         "35",
         "1",
         "74",
         "158.0",
         "59.0",
         "10.0",
         "93.0",
         "39.6",
         "56.0"
        ],
        [
         "36",
         "1",
         "70",
         "154.0",
         "59.0",
         "10.0",
         "88.0",
         "40.0",
         "50.0"
        ],
        [
         "37",
         "1",
         "26",
         "182.0",
         "80.0",
         "21.0",
         "96.0",
         "40.5",
         "100.0"
        ],
        [
         "38",
         "0",
         "44",
         "184.0",
         "86.0",
         "25.0",
         "114.0",
         "40.8",
         "200.0"
        ],
        [
         "39",
         "0",
         "61",
         "183.0",
         "86.0",
         "1.0",
         "81.0",
         "38.3",
         "4.0"
        ],
        [
         "40",
         "1",
         "68",
         "157.0",
         "57.0",
         "13.0",
         "92.0",
         "40.1",
         "70.0"
        ],
        [
         "41",
         "1",
         "61",
         "176.0",
         "70.0",
         "20.0",
         "104.0",
         "40.5",
         "127.0"
        ],
        [
         "42",
         "0",
         "63",
         "179.0",
         "80.0",
         "25.0",
         "108.0",
         "40.8",
         "197.0"
        ],
        [
         "43",
         "1",
         "54",
         "171.0",
         "66.0",
         "20.0",
         "98.0",
         "40.1",
         "113.0"
        ],
        [
         "44",
         "1",
         "54",
         "169.0",
         "66.0",
         "3.0",
         "80.0",
         "38.9",
         "11.0"
        ],
        [
         "45",
         "1",
         "47",
         "155.0",
         "55.0",
         "16.0",
         "93.0",
         "40.5",
         "82.0"
        ],
        [
         "46",
         "0",
         "33",
         "184.0",
         "86.0",
         "8.0",
         "86.0",
         "39.9",
         "26.0"
        ],
        [
         "47",
         "1",
         "24",
         "171.0",
         "66.0",
         "24.0",
         "105.0",
         "40.6",
         "141.0"
        ],
        [
         "48",
         "0",
         "24",
         "195.0",
         "98.0",
         "20.0",
         "96.0",
         "40.6",
         "92.0"
        ],
        [
         "49",
         "0",
         "48",
         "152.0",
         "59.0",
         "2.0",
         "79.0",
         "38.0",
         "5.0"
        ]
       ],
       "shape": {
        "columns": 8,
        "rows": 15000
       }
      },
      "text/html": [
       "<div>\n",
       "<style scoped>\n",
       "    .dataframe tbody tr th:only-of-type {\n",
       "        vertical-align: middle;\n",
       "    }\n",
       "\n",
       "    .dataframe tbody tr th {\n",
       "        vertical-align: top;\n",
       "    }\n",
       "\n",
       "    .dataframe thead th {\n",
       "        text-align: right;\n",
       "    }\n",
       "</style>\n",
       "<table border=\"1\" class=\"dataframe\">\n",
       "  <thead>\n",
       "    <tr style=\"text-align: right;\">\n",
       "      <th></th>\n",
       "      <th>Gender</th>\n",
       "      <th>Age</th>\n",
       "      <th>Height</th>\n",
       "      <th>Weight</th>\n",
       "      <th>Duration</th>\n",
       "      <th>Heart_Rate</th>\n",
       "      <th>Body_Temp</th>\n",
       "      <th>Calories</th>\n",
       "    </tr>\n",
       "  </thead>\n",
       "  <tbody>\n",
       "    <tr>\n",
       "      <th>0</th>\n",
       "      <td>0</td>\n",
       "      <td>68</td>\n",
       "      <td>190.0</td>\n",
       "      <td>94.0</td>\n",
       "      <td>29.0</td>\n",
       "      <td>105.0</td>\n",
       "      <td>40.8</td>\n",
       "      <td>231.0</td>\n",
       "    </tr>\n",
       "    <tr>\n",
       "      <th>1</th>\n",
       "      <td>1</td>\n",
       "      <td>20</td>\n",
       "      <td>166.0</td>\n",
       "      <td>60.0</td>\n",
       "      <td>14.0</td>\n",
       "      <td>94.0</td>\n",
       "      <td>40.3</td>\n",
       "      <td>66.0</td>\n",
       "    </tr>\n",
       "    <tr>\n",
       "      <th>2</th>\n",
       "      <td>0</td>\n",
       "      <td>69</td>\n",
       "      <td>179.0</td>\n",
       "      <td>79.0</td>\n",
       "      <td>5.0</td>\n",
       "      <td>88.0</td>\n",
       "      <td>38.7</td>\n",
       "      <td>26.0</td>\n",
       "    </tr>\n",
       "    <tr>\n",
       "      <th>3</th>\n",
       "      <td>1</td>\n",
       "      <td>34</td>\n",
       "      <td>179.0</td>\n",
       "      <td>71.0</td>\n",
       "      <td>13.0</td>\n",
       "      <td>100.0</td>\n",
       "      <td>40.5</td>\n",
       "      <td>71.0</td>\n",
       "    </tr>\n",
       "    <tr>\n",
       "      <th>4</th>\n",
       "      <td>1</td>\n",
       "      <td>27</td>\n",
       "      <td>154.0</td>\n",
       "      <td>58.0</td>\n",
       "      <td>10.0</td>\n",
       "      <td>81.0</td>\n",
       "      <td>39.8</td>\n",
       "      <td>35.0</td>\n",
       "    </tr>\n",
       "    <tr>\n",
       "      <th>...</th>\n",
       "      <td>...</td>\n",
       "      <td>...</td>\n",
       "      <td>...</td>\n",
       "      <td>...</td>\n",
       "      <td>...</td>\n",
       "      <td>...</td>\n",
       "      <td>...</td>\n",
       "      <td>...</td>\n",
       "    </tr>\n",
       "    <tr>\n",
       "      <th>14995</th>\n",
       "      <td>1</td>\n",
       "      <td>20</td>\n",
       "      <td>193.0</td>\n",
       "      <td>86.0</td>\n",
       "      <td>11.0</td>\n",
       "      <td>92.0</td>\n",
       "      <td>40.4</td>\n",
       "      <td>45.0</td>\n",
       "    </tr>\n",
       "    <tr>\n",
       "      <th>14996</th>\n",
       "      <td>1</td>\n",
       "      <td>27</td>\n",
       "      <td>165.0</td>\n",
       "      <td>65.0</td>\n",
       "      <td>6.0</td>\n",
       "      <td>85.0</td>\n",
       "      <td>39.2</td>\n",
       "      <td>23.0</td>\n",
       "    </tr>\n",
       "    <tr>\n",
       "      <th>14997</th>\n",
       "      <td>1</td>\n",
       "      <td>43</td>\n",
       "      <td>159.0</td>\n",
       "      <td>58.0</td>\n",
       "      <td>16.0</td>\n",
       "      <td>90.0</td>\n",
       "      <td>40.1</td>\n",
       "      <td>75.0</td>\n",
       "    </tr>\n",
       "    <tr>\n",
       "      <th>14998</th>\n",
       "      <td>0</td>\n",
       "      <td>78</td>\n",
       "      <td>193.0</td>\n",
       "      <td>97.0</td>\n",
       "      <td>2.0</td>\n",
       "      <td>84.0</td>\n",
       "      <td>38.3</td>\n",
       "      <td>11.0</td>\n",
       "    </tr>\n",
       "    <tr>\n",
       "      <th>14999</th>\n",
       "      <td>0</td>\n",
       "      <td>63</td>\n",
       "      <td>173.0</td>\n",
       "      <td>79.0</td>\n",
       "      <td>18.0</td>\n",
       "      <td>92.0</td>\n",
       "      <td>40.5</td>\n",
       "      <td>98.0</td>\n",
       "    </tr>\n",
       "  </tbody>\n",
       "</table>\n",
       "<p>15000 rows × 8 columns</p>\n",
       "</div>"
      ],
      "text/plain": [
       "       Gender  Age  Height  Weight  Duration  Heart_Rate  Body_Temp  Calories\n",
       "0           0   68   190.0    94.0      29.0       105.0       40.8     231.0\n",
       "1           1   20   166.0    60.0      14.0        94.0       40.3      66.0\n",
       "2           0   69   179.0    79.0       5.0        88.0       38.7      26.0\n",
       "3           1   34   179.0    71.0      13.0       100.0       40.5      71.0\n",
       "4           1   27   154.0    58.0      10.0        81.0       39.8      35.0\n",
       "...       ...  ...     ...     ...       ...         ...        ...       ...\n",
       "14995       1   20   193.0    86.0      11.0        92.0       40.4      45.0\n",
       "14996       1   27   165.0    65.0       6.0        85.0       39.2      23.0\n",
       "14997       1   43   159.0    58.0      16.0        90.0       40.1      75.0\n",
       "14998       0   78   193.0    97.0       2.0        84.0       38.3      11.0\n",
       "14999       0   63   173.0    79.0      18.0        92.0       40.5      98.0\n",
       "\n",
       "[15000 rows x 8 columns]"
      ]
     },
     "execution_count": 15,
     "metadata": {},
     "output_type": "execute_result"
    }
   ],
   "source": [
    "df"
   ]
  },
  {
   "cell_type": "code",
   "execution_count": 16,
   "id": "c60e1451",
   "metadata": {},
   "outputs": [],
   "source": [
    "x = df.drop(columns= {'Calories'})\n",
    "y = df['Calories']"
   ]
  },
  {
   "cell_type": "code",
   "execution_count": 17,
   "id": "f6ed34dc",
   "metadata": {},
   "outputs": [],
   "source": [
    "X_train, X_test, y_train, y_test = train_test_split( x, y, test_size=0.33, random_state=42)"
   ]
  },
  {
   "cell_type": "code",
   "execution_count": 18,
   "id": "60ed0fcf",
   "metadata": {},
   "outputs": [
    {
     "name": "stdout",
     "output_type": "stream",
     "text": [
      "ABSOLUTE MEAN ERROR: 1.5625125778842754\n",
      "RMSE: 2.229096946006088\n",
      "R² Score: 0.9987427591522791\n"
     ]
    }
   ],
   "source": [
    "xg = XGBRegressor()\n",
    "xg.fit(X_train,y_train)\n",
    "pred_xg = xg.predict(X_test)\n",
    "print('ABSOLUTE MEAN ERROR:', mean_absolute_error(y_test,pred_xg))\n",
    "print('RMSE:', np.sqrt(mean_squared_error(y_test, pred_xg))) # Lower = better\n",
    "print('R² Score:', r2_score(y_test, pred_xg))   "
   ]
  },
  {
   "cell_type": "code",
   "execution_count": 19,
   "id": "96671263",
   "metadata": {},
   "outputs": [
    {
     "name": "stdout",
     "output_type": "stream",
     "text": [
      "Calories burnt: [7.792755]\n"
     ]
    }
   ],
   "source": [
    "input_data = (0,53,182.0,85.0,2.0,82.0,38.1)\n",
    "input_nparray = np.asarray(input_data)\n",
    "reshaped_array = input_nparray.reshape(1,-1)\n",
    "pred = xg.predict(reshaped_array)\n",
    "print('Calories burnt:', pred)\n"
   ]
  },
  {
   "cell_type": "code",
   "execution_count": 21,
   "id": "0660bedd",
   "metadata": {},
   "outputs": [
    {
     "data": {
      "text/plain": [
       "['model/calorie_model.pkl']"
      ]
     },
     "execution_count": 21,
     "metadata": {},
     "output_type": "execute_result"
    }
   ],
   "source": [
    "import joblib\n",
    "joblib.dump(xg, 'model/calorie_model.pkl')"
   ]
  }
 ],
 "metadata": {
  "kernelspec": {
   "display_name": "pp",
   "language": "python",
   "name": "python3"
  },
  "language_info": {
   "codemirror_mode": {
    "name": "ipython",
    "version": 3
   },
   "file_extension": ".py",
   "mimetype": "text/x-python",
   "name": "python",
   "nbconvert_exporter": "python",
   "pygments_lexer": "ipython3",
   "version": "3.13.2"
  }
 },
 "nbformat": 4,
 "nbformat_minor": 5
}
