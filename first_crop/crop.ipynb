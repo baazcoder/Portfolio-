{
 "cells": [
  {
   "cell_type": "code",
   "execution_count": 2,
   "id": "981b3136",
   "metadata": {},
   "outputs": [],
   "source": [
    "import pandas as pd\n",
    "import numpy as np\n",
    "import matplotlib.pyplot as plt\n",
    "import seaborn as sns\n",
    "from sklearn.linear_model import LogisticRegression\n",
    "from sklearn.metrics import confusion_matrix,classification_report,accuracy_score\n",
    "from sklearn.model_selection import train_test_split\n",
    "from sklearn.ensemble import RandomForestClassifier"
   ]
  },
  {
   "cell_type": "code",
   "execution_count": 3,
   "id": "bb5278c7",
   "metadata": {},
   "outputs": [],
   "source": [
    "df = pd.read_csv('Crop_recommendation.csv')"
   ]
  },
  {
   "cell_type": "code",
   "execution_count": 4,
   "id": "ead1b998",
   "metadata": {},
   "outputs": [
    {
     "data": {
      "application/vnd.microsoft.datawrangler.viewer.v0+json": {
       "columns": [
        {
         "name": "index",
         "rawType": "int64",
         "type": "integer"
        },
        {
         "name": "N",
         "rawType": "int64",
         "type": "integer"
        },
        {
         "name": "P",
         "rawType": "int64",
         "type": "integer"
        },
        {
         "name": "K",
         "rawType": "int64",
         "type": "integer"
        },
        {
         "name": "temperature",
         "rawType": "float64",
         "type": "float"
        },
        {
         "name": "humidity",
         "rawType": "float64",
         "type": "float"
        },
        {
         "name": "ph",
         "rawType": "float64",
         "type": "float"
        },
        {
         "name": "rainfall",
         "rawType": "float64",
         "type": "float"
        },
        {
         "name": "label",
         "rawType": "object",
         "type": "string"
        }
       ],
       "ref": "e48cccd2-a171-4ef3-9bb4-2b28c282270b",
       "rows": [
        [
         "0",
         "90",
         "42",
         "43",
         "20.87974371",
         "82.00274423",
         "6.502985292000001",
         "202.9355362",
         "rice"
        ],
        [
         "1",
         "85",
         "58",
         "41",
         "21.77046169",
         "80.31964408",
         "7.038096361",
         "226.6555374",
         "rice"
        ],
        [
         "2",
         "60",
         "55",
         "44",
         "23.00445915",
         "82.3207629",
         "7.840207144",
         "263.9642476",
         "rice"
        ],
        [
         "3",
         "74",
         "35",
         "40",
         "26.49109635",
         "80.15836264",
         "6.980400905",
         "242.8640342",
         "rice"
        ],
        [
         "4",
         "78",
         "42",
         "42",
         "20.13017482",
         "81.60487287",
         "7.628472891",
         "262.7173405",
         "rice"
        ]
       ],
       "shape": {
        "columns": 8,
        "rows": 5
       }
      },
      "text/html": [
       "<div>\n",
       "<style scoped>\n",
       "    .dataframe tbody tr th:only-of-type {\n",
       "        vertical-align: middle;\n",
       "    }\n",
       "\n",
       "    .dataframe tbody tr th {\n",
       "        vertical-align: top;\n",
       "    }\n",
       "\n",
       "    .dataframe thead th {\n",
       "        text-align: right;\n",
       "    }\n",
       "</style>\n",
       "<table border=\"1\" class=\"dataframe\">\n",
       "  <thead>\n",
       "    <tr style=\"text-align: right;\">\n",
       "      <th></th>\n",
       "      <th>N</th>\n",
       "      <th>P</th>\n",
       "      <th>K</th>\n",
       "      <th>temperature</th>\n",
       "      <th>humidity</th>\n",
       "      <th>ph</th>\n",
       "      <th>rainfall</th>\n",
       "      <th>label</th>\n",
       "    </tr>\n",
       "  </thead>\n",
       "  <tbody>\n",
       "    <tr>\n",
       "      <th>0</th>\n",
       "      <td>90</td>\n",
       "      <td>42</td>\n",
       "      <td>43</td>\n",
       "      <td>20.879744</td>\n",
       "      <td>82.002744</td>\n",
       "      <td>6.502985</td>\n",
       "      <td>202.935536</td>\n",
       "      <td>rice</td>\n",
       "    </tr>\n",
       "    <tr>\n",
       "      <th>1</th>\n",
       "      <td>85</td>\n",
       "      <td>58</td>\n",
       "      <td>41</td>\n",
       "      <td>21.770462</td>\n",
       "      <td>80.319644</td>\n",
       "      <td>7.038096</td>\n",
       "      <td>226.655537</td>\n",
       "      <td>rice</td>\n",
       "    </tr>\n",
       "    <tr>\n",
       "      <th>2</th>\n",
       "      <td>60</td>\n",
       "      <td>55</td>\n",
       "      <td>44</td>\n",
       "      <td>23.004459</td>\n",
       "      <td>82.320763</td>\n",
       "      <td>7.840207</td>\n",
       "      <td>263.964248</td>\n",
       "      <td>rice</td>\n",
       "    </tr>\n",
       "    <tr>\n",
       "      <th>3</th>\n",
       "      <td>74</td>\n",
       "      <td>35</td>\n",
       "      <td>40</td>\n",
       "      <td>26.491096</td>\n",
       "      <td>80.158363</td>\n",
       "      <td>6.980401</td>\n",
       "      <td>242.864034</td>\n",
       "      <td>rice</td>\n",
       "    </tr>\n",
       "    <tr>\n",
       "      <th>4</th>\n",
       "      <td>78</td>\n",
       "      <td>42</td>\n",
       "      <td>42</td>\n",
       "      <td>20.130175</td>\n",
       "      <td>81.604873</td>\n",
       "      <td>7.628473</td>\n",
       "      <td>262.717340</td>\n",
       "      <td>rice</td>\n",
       "    </tr>\n",
       "  </tbody>\n",
       "</table>\n",
       "</div>"
      ],
      "text/plain": [
       "    N   P   K  temperature   humidity        ph    rainfall label\n",
       "0  90  42  43    20.879744  82.002744  6.502985  202.935536  rice\n",
       "1  85  58  41    21.770462  80.319644  7.038096  226.655537  rice\n",
       "2  60  55  44    23.004459  82.320763  7.840207  263.964248  rice\n",
       "3  74  35  40    26.491096  80.158363  6.980401  242.864034  rice\n",
       "4  78  42  42    20.130175  81.604873  7.628473  262.717340  rice"
      ]
     },
     "execution_count": 4,
     "metadata": {},
     "output_type": "execute_result"
    }
   ],
   "source": [
    "df.head()"
   ]
  },
  {
   "cell_type": "code",
   "execution_count": 5,
   "id": "84fcfb5e",
   "metadata": {},
   "outputs": [
    {
     "data": {
      "text/plain": [
       "(2200, 8)"
      ]
     },
     "execution_count": 5,
     "metadata": {},
     "output_type": "execute_result"
    }
   ],
   "source": [
    "df.shape"
   ]
  },
  {
   "cell_type": "code",
   "execution_count": 6,
   "id": "3154e7be",
   "metadata": {},
   "outputs": [
    {
     "data": {
      "text/plain": [
       "np.int64(0)"
      ]
     },
     "execution_count": 6,
     "metadata": {},
     "output_type": "execute_result"
    }
   ],
   "source": [
    "df.duplicated().sum()"
   ]
  },
  {
   "cell_type": "code",
   "execution_count": 7,
   "id": "0988d93f",
   "metadata": {},
   "outputs": [],
   "source": [
    "y = df['label']\n",
    "x = df.drop(columns= {'label'})"
   ]
  },
  {
   "cell_type": "code",
   "execution_count": 8,
   "id": "0ef84a88",
   "metadata": {},
   "outputs": [
    {
     "data": {
      "text/plain": [
       "array(['rice', 'maize', 'chickpea', 'kidneybeans', 'pigeonpeas',\n",
       "       'mothbeans', 'mungbean', 'blackgram', 'lentil', 'pomegranate',\n",
       "       'banana', 'mango', 'grapes', 'watermelon', 'muskmelon', 'apple',\n",
       "       'orange', 'papaya', 'coconut', 'cotton', 'jute', 'coffee'],\n",
       "      dtype=object)"
      ]
     },
     "execution_count": 8,
     "metadata": {},
     "output_type": "execute_result"
    }
   ],
   "source": [
    "y.unique()"
   ]
  },
  {
   "cell_type": "code",
   "execution_count": 9,
   "id": "e1c3e532",
   "metadata": {},
   "outputs": [
    {
     "data": {
      "text/plain": [
       "<Axes: >"
      ]
     },
     "execution_count": 9,
     "metadata": {},
     "output_type": "execute_result"
    },
    {
     "data": {
      "image/png": "[encoded data removed]",
      "text/plain": [
       "<Figure size 640x480 with 2 Axes>"
      ]
     },
     "metadata": {},
     "output_type": "display_data"
    }
   ],
   "source": [
    "sns.heatmap(df.corr(numeric_only= True), annot= True)"
   ]
  },
  {
   "cell_type": "code",
   "execution_count": 10,
   "id": "1bd64cbb",
   "metadata": {},
   "outputs": [],
   "source": [
    "X_train, X_test, y_train, y_test = train_test_split(x, y, test_size=0.2, random_state=42)"
   ]
  },
  {
   "cell_type": "code",
   "execution_count": 11,
   "id": "efcdea69",
   "metadata": {},
   "outputs": [],
   "source": [
    "rf = RandomForestClassifier()\n",
    "rf.fit(X_train,y_train)\n",
    "pred_rf = rf.predict(X_test)"
   ]
  },
  {
   "cell_type": "code",
   "execution_count": 12,
   "id": "6fd0ea46",
   "metadata": {},
   "outputs": [
    {
     "name": "stdout",
     "output_type": "stream",
     "text": [
      "Accuracy: 1.0\n"
     ]
    }
   ],
   "source": [
    "pred_train_rf = rf.predict(X_train)\n",
    "print('Accuracy:', accuracy_score(y_train,pred_train_rf))"
   ]
  },
  {
   "cell_type": "code",
   "execution_count": 13,
   "id": "9729a0e1",
   "metadata": {},
   "outputs": [
    {
     "name": "stdout",
     "output_type": "stream",
     "text": [
      "Accuracy: 0.9931818181818182\n"
     ]
    }
   ],
   "source": [
    "print('Accuracy:', accuracy_score(y_test,pred_rf))\n",
    "\n"
   ]
  },
  {
   "cell_type": "code",
   "execution_count": 14,
   "id": "a9f6b187",
   "metadata": {},
   "outputs": [],
   "source": [
    "import pickle\n",
    "pickle.dump(rf,open('model.pkl', 'wb'))"
   ]
  },
  {
   "cell_type": "code",
   "execution_count": 16,
   "id": "55251915",
   "metadata": {},
   "outputs": [
    {
     "data": {
      "application/vnd.microsoft.datawrangler.viewer.v0+json": {
       "columns": [
        {
         "name": "index",
         "rawType": "int64",
         "type": "integer"
        },
        {
         "name": "N",
         "rawType": "int64",
         "type": "integer"
        },
        {
         "name": "P",
         "rawType": "int64",
         "type": "integer"
        },
        {
         "name": "K",
         "rawType": "int64",
         "type": "integer"
        },
        {
         "name": "temperature",
         "rawType": "float64",
         "type": "float"
        },
        {
         "name": "humidity",
         "rawType": "float64",
         "type": "float"
        },
        {
         "name": "ph",
         "rawType": "float64",
         "type": "float"
        },
        {
         "name": "rainfall",
         "rawType": "float64",
         "type": "float"
        }
       ],
       "ref": "3e665ad4-de40-4d33-a0eb-726d7de47753",
       "rows": [
        [
         "1451",
         "101",
         "17",
         "47",
         "29.49401389",
         "94.72981338",
         "6.185053234",
         "26.30820876"
        ],
        [
         "1334",
         "98",
         "8",
         "51",
         "26.1793464",
         "86.52258079",
         "6.25933595",
         "49.43050977"
        ],
        [
         "1761",
         "59",
         "62",
         "49",
         "43.36051537",
         "93.35191636",
         "6.941496806",
         "114.778071"
        ],
        [
         "1735",
         "44",
         "60",
         "55",
         "34.2804607",
         "90.55561637",
         "6.825371185",
         "98.54047745"
        ],
        [
         "1576",
         "30",
         "137",
         "200",
         "22.91430043",
         "90.70475565",
         "5.603413172000001",
         "118.6044645"
        ],
        [
         "1110",
         "18",
         "19",
         "27",
         "27.75518664",
         "52.34605806",
         "4.772385986000001",
         "94.11213345"
        ],
        [
         "1594",
         "35",
         "145",
         "195",
         "22.03911546",
         "94.58075845",
         "6.231950009",
         "110.9804014"
        ],
        [
         "530",
         "22",
         "44",
         "24",
         "24.30935081",
         "56.32938343",
         "6.030447288",
         "58.99536268"
        ],
        [
         "651",
         "11",
         "46",
         "24",
         "27.65280218",
         "89.80650642",
         "6.459252023",
         "56.52558045"
        ],
        [
         "819",
         "3",
         "78",
         "18",
         "20.21368219",
         "68.65257685",
         "6.887130053",
         "50.89732989"
        ],
        [
         "771",
         "44",
         "75",
         "22",
         "30.0328403",
         "64.14800537",
         "7.574561547",
         "71.21006868"
        ],
        [
         "1878",
         "0",
         "19",
         "31",
         "25.51791333",
         "94.38420565",
         "6.271952832999999",
         "178.7297725"
        ],
        [
         "915",
         "16",
         "15",
         "42",
         "19.67832052",
         "89.08935702",
         "6.890784045",
         "108.5468633"
        ],
        [
         "2015",
         "70",
         "38",
         "35",
         "24.39736241",
         "79.26861738",
         "7.014063944",
         "164.2697011"
        ],
        [
         "1876",
         "25",
         "12",
         "26",
         "28.56973521",
         "95.67906668",
         "6.436314406",
         "134.83703480000003"
        ],
        [
         "937",
         "36",
         "24",
         "41",
         "24.94467632",
         "94.25702672",
         "7.009180374",
         "103.8799347"
        ],
        [
         "1562",
         "6",
         "124",
         "200",
         "22.98208095",
         "93.84505029",
         "5.971332179",
         "109.5852253"
        ],
        [
         "179",
         "99",
         "38",
         "21",
         "22.88330922",
         "71.59722446",
         "6.352471866",
         "67.72777298"
        ],
        [
         "1723",
         "34",
         "62",
         "55",
         "27.58548913",
         "90.72526502",
         "6.585346229",
         "238.5008779"
        ],
        [
         "1472",
         "102",
         "11",
         "45",
         "29.03167341",
         "93.12603235",
         "6.35544263",
         "24.15591199"
        ],
        [
         "2167",
         "89",
         "28",
         "33",
         "26.44414097",
         "53.83876189",
         "6.9932360010000005",
         "175.3723314"
        ],
        [
         "1716",
         "49",
         "55",
         "53",
         "38.4418717",
         "93.63739039",
         "6.544029776",
         "77.71566883"
        ],
        [
         "1646",
         "32",
         "18",
         "13",
         "13.8377282",
         "91.74780462",
         "6.044167236",
         "107.9873218"
        ],
        [
         "1708",
         "38",
         "68",
         "54",
         "29.33710543",
         "90.81781439",
         "6.739170045",
         "202.0572747"
        ],
        [
         "251",
         "44",
         "74",
         "85",
         "20.18649426",
         "19.63719995",
         "7.150681303",
         "78.26039559"
        ],
        [
         "2009",
         "74",
         "40",
         "40",
         "25.13842773",
         "83.12053888",
         "6.386259977999999",
         "169.33884650000005"
        ],
        [
         "602",
         "36",
         "55",
         "20",
         "27.01470397",
         "84.34262707",
         "6.635968697999999",
         "55.296354"
        ],
        [
         "1611",
         "33",
         "12",
         "8",
         "25.26052689",
         "90.31153735",
         "6.822282114",
         "117.36952959999998"
        ],
        [
         "486",
         "39",
         "77",
         "21",
         "22.99774444",
         "60.24218572",
         "4.603563116",
         "159.689339"
        ],
        [
         "29",
         "84",
         "51",
         "35",
         "22.30157427",
         "80.64416466",
         "6.043304899",
         "197.9791215"
        ],
        [
         "900",
         "2",
         "24",
         "38",
         "24.55981624",
         "91.63536236",
         "5.922935513",
         "111.9684622"
        ],
        [
         "508",
         "25",
         "57",
         "24",
         "27.65472156",
         "58.59986279",
         "6.974978386",
         "36.94255012"
        ],
        [
         "2082",
         "86",
         "39",
         "43",
         "26.14576648",
         "71.23690851",
         "6.432051512",
         "193.1007598"
        ],
        [
         "889",
         "12",
         "80",
         "19",
         "21.91041045",
         "65.21662467",
         "5.962001484",
         "36.10211371"
        ],
        [
         "2057",
         "89",
         "40",
         "43",
         "26.24532085",
         "72.97198375",
         "7.124050134",
         "189.9711184"
        ],
        [
         "792",
         "29",
         "63",
         "17",
         "30.02629908",
         "67.88811637",
         "7.26154329",
         "66.47264636"
        ],
        [
         "2095",
         "87",
         "44",
         "43",
         "23.87484465",
         "86.79261344",
         "6.718725189",
         "177.5147313"
        ],
        [
         "275",
         "27",
         "79",
         "82",
         "17.06579293",
         "17.54024066",
         "6.307004922999999",
         "70.87150577"
        ],
        [
         "254",
         "20",
         "60",
         "78",
         "18.17234999",
         "14.70085967",
         "6.358740355",
         "90.7760707"
        ],
        [
         "306",
         "17",
         "57",
         "21",
         "19.88394011",
         "20.31564139",
         "5.789214288999999",
         "60.91974792"
        ],
        [
         "1783",
         "39",
         "69",
         "53",
         "25.9300384",
         "93.02357765",
         "6.964955435",
         "241.8202079"
        ],
        [
         "1189",
         "28",
         "23",
         "28",
         "30.01821337",
         "50.09831810000001",
         "5.676032581",
         "96.08745082"
        ],
        [
         "759",
         "21",
         "72",
         "17",
         "31.52104732",
         "66.55723677",
         "7.580527339",
         "61.71111448"
        ],
        [
         "168",
         "71",
         "35",
         "24",
         "22.27373646",
         "59.52193158",
         "5.826426917",
         "67.96704792"
        ],
        [
         "668",
         "30",
         "37",
         "25",
         "29.89129144",
         "80.14487166",
         "7.120032489",
         "54.7960127"
        ],
        [
         "184",
         "61",
         "59",
         "17",
         "23.33844615",
         "59.24580604",
         "6.47444292",
         "105.0083144"
        ],
        [
         "414",
         "27",
         "72",
         "17",
         "28.98039357",
         "57.23265151",
         "6.347929353",
         "120.7435664"
        ],
        [
         "1841",
         "40",
         "5",
         "29",
         "28.48444906",
         "97.76865458",
         "5.820978791",
         "160.389421"
        ],
        [
         "1463",
         "84",
         "29",
         "49",
         "29.94349168",
         "93.90741192",
         "6.251420275",
         "20.39020503"
        ],
        [
         "111",
         "90",
         "49",
         "21",
         "24.84016732",
         "68.3584573",
         "6.4725232870000005",
         "74.05474936"
        ]
       ],
       "shape": {
        "columns": 7,
        "rows": 440
       }
      },
      "text/html": [
       "<div>\n",
       "<style scoped>\n",
       "    .dataframe tbody tr th:only-of-type {\n",
       "        vertical-align: middle;\n",
       "    }\n",
       "\n",
       "    .dataframe tbody tr th {\n",
       "        vertical-align: top;\n",
       "    }\n",
       "\n",
       "    .dataframe thead th {\n",
       "        text-align: right;\n",
       "    }\n",
       "</style>\n",
       "<table border=\"1\" class=\"dataframe\">\n",
       "  <thead>\n",
       "    <tr style=\"text-align: right;\">\n",
       "      <th></th>\n",
       "      <th>N</th>\n",
       "      <th>P</th>\n",
       "      <th>K</th>\n",
       "      <th>temperature</th>\n",
       "      <th>humidity</th>\n",
       "      <th>ph</th>\n",
       "      <th>rainfall</th>\n",
       "    </tr>\n",
       "  </thead>\n",
       "  <tbody>\n",
       "    <tr>\n",
       "      <th>1451</th>\n",
       "      <td>101</td>\n",
       "      <td>17</td>\n",
       "      <td>47</td>\n",
       "      <td>29.494014</td>\n",
       "      <td>94.729813</td>\n",
       "      <td>6.185053</td>\n",
       "      <td>26.308209</td>\n",
       "    </tr>\n",
       "    <tr>\n",
       "      <th>1334</th>\n",
       "      <td>98</td>\n",
       "      <td>8</td>\n",
       "      <td>51</td>\n",
       "      <td>26.179346</td>\n",
       "      <td>86.522581</td>\n",
       "      <td>6.259336</td>\n",
       "      <td>49.430510</td>\n",
       "    </tr>\n",
       "    <tr>\n",
       "      <th>1761</th>\n",
       "      <td>59</td>\n",
       "      <td>62</td>\n",
       "      <td>49</td>\n",
       "      <td>43.360515</td>\n",
       "      <td>93.351916</td>\n",
       "      <td>6.941497</td>\n",
       "      <td>114.778071</td>\n",
       "    </tr>\n",
       "    <tr>\n",
       "      <th>1735</th>\n",
       "      <td>44</td>\n",
       "      <td>60</td>\n",
       "      <td>55</td>\n",
       "      <td>34.280461</td>\n",
       "      <td>90.555616</td>\n",
       "      <td>6.825371</td>\n",
       "      <td>98.540477</td>\n",
       "    </tr>\n",
       "    <tr>\n",
       "      <th>1576</th>\n",
       "      <td>30</td>\n",
       "      <td>137</td>\n",
       "      <td>200</td>\n",
       "      <td>22.914300</td>\n",
       "      <td>90.704756</td>\n",
       "      <td>5.603413</td>\n",
       "      <td>118.604465</td>\n",
       "    </tr>\n",
       "    <tr>\n",
       "      <th>...</th>\n",
       "      <td>...</td>\n",
       "      <td>...</td>\n",
       "      <td>...</td>\n",
       "      <td>...</td>\n",
       "      <td>...</td>\n",
       "      <td>...</td>\n",
       "      <td>...</td>\n",
       "    </tr>\n",
       "    <tr>\n",
       "      <th>59</th>\n",
       "      <td>99</td>\n",
       "      <td>55</td>\n",
       "      <td>35</td>\n",
       "      <td>21.723831</td>\n",
       "      <td>80.238990</td>\n",
       "      <td>6.501698</td>\n",
       "      <td>277.962619</td>\n",
       "    </tr>\n",
       "    <tr>\n",
       "      <th>71</th>\n",
       "      <td>67</td>\n",
       "      <td>45</td>\n",
       "      <td>38</td>\n",
       "      <td>22.727910</td>\n",
       "      <td>82.170688</td>\n",
       "      <td>7.300411</td>\n",
       "      <td>260.887506</td>\n",
       "    </tr>\n",
       "    <tr>\n",
       "      <th>1908</th>\n",
       "      <td>121</td>\n",
       "      <td>47</td>\n",
       "      <td>16</td>\n",
       "      <td>23.605640</td>\n",
       "      <td>79.295731</td>\n",
       "      <td>7.723240</td>\n",
       "      <td>72.498009</td>\n",
       "    </tr>\n",
       "    <tr>\n",
       "      <th>1958</th>\n",
       "      <td>116</td>\n",
       "      <td>52</td>\n",
       "      <td>19</td>\n",
       "      <td>22.942767</td>\n",
       "      <td>75.371706</td>\n",
       "      <td>6.114526</td>\n",
       "      <td>67.080226</td>\n",
       "    </tr>\n",
       "    <tr>\n",
       "      <th>482</th>\n",
       "      <td>5</td>\n",
       "      <td>68</td>\n",
       "      <td>20</td>\n",
       "      <td>19.043805</td>\n",
       "      <td>33.106951</td>\n",
       "      <td>6.121667</td>\n",
       "      <td>155.370562</td>\n",
       "    </tr>\n",
       "  </tbody>\n",
       "</table>\n",
       "<p>440 rows × 7 columns</p>\n",
       "</div>"
      ],
      "text/plain": [
       "        N    P    K  temperature   humidity        ph    rainfall\n",
       "1451  101   17   47    29.494014  94.729813  6.185053   26.308209\n",
       "1334   98    8   51    26.179346  86.522581  6.259336   49.430510\n",
       "1761   59   62   49    43.360515  93.351916  6.941497  114.778071\n",
       "1735   44   60   55    34.280461  90.555616  6.825371   98.540477\n",
       "1576   30  137  200    22.914300  90.704756  5.603413  118.604465\n",
       "...   ...  ...  ...          ...        ...       ...         ...\n",
       "59     99   55   35    21.723831  80.238990  6.501698  277.962619\n",
       "71     67   45   38    22.727910  82.170688  7.300411  260.887506\n",
       "1908  121   47   16    23.605640  79.295731  7.723240   72.498009\n",
       "1958  116   52   19    22.942767  75.371706  6.114526   67.080226\n",
       "482     5   68   20    19.043805  33.106951  6.121667  155.370562\n",
       "\n",
       "[440 rows x 7 columns]"
      ]
     },
     "execution_count": 16,
     "metadata": {},
     "output_type": "execute_result"
    }
   ],
   "source": [
    "X_test"
   ]
  },
  {
   "cell_type": "code",
   "execution_count": 15,
   "id": "b6c99e51",
   "metadata": {},
   "outputs": [
    {
     "data": {
      "application/vnd.microsoft.datawrangler.viewer.v0+json": {
       "columns": [
        {
         "name": "index",
         "rawType": "int64",
         "type": "integer"
        },
        {
         "name": "label",
         "rawType": "object",
         "type": "string"
        }
       ],
       "ref": "6ddc624c-ee00-4cfa-b2ee-184c488d3d82",
       "rows": [
        [
         "1451",
         "muskmelon"
        ],
        [
         "1334",
         "watermelon"
        ],
        [
         "1761",
         "papaya"
        ],
        [
         "1735",
         "papaya"
        ],
        [
         "1576",
         "apple"
        ],
        [
         "1110",
         "mango"
        ],
        [
         "1594",
         "apple"
        ],
        [
         "530",
         "mothbeans"
        ],
        [
         "651",
         "mungbean"
        ],
        [
         "819",
         "lentil"
        ],
        [
         "771",
         "blackgram"
        ],
        [
         "1878",
         "coconut"
        ],
        [
         "915",
         "pomegranate"
        ],
        [
         "2015",
         "jute"
        ],
        [
         "1876",
         "coconut"
        ],
        [
         "937",
         "pomegranate"
        ],
        [
         "1562",
         "apple"
        ],
        [
         "179",
         "maize"
        ],
        [
         "1723",
         "papaya"
        ],
        [
         "1472",
         "muskmelon"
        ],
        [
         "2167",
         "coffee"
        ],
        [
         "1716",
         "papaya"
        ],
        [
         "1646",
         "orange"
        ],
        [
         "1708",
         "papaya"
        ],
        [
         "251",
         "chickpea"
        ],
        [
         "2009",
         "jute"
        ],
        [
         "602",
         "mungbean"
        ],
        [
         "1611",
         "orange"
        ],
        [
         "486",
         "pigeonpeas"
        ],
        [
         "29",
         "rice"
        ],
        [
         "900",
         "pomegranate"
        ],
        [
         "508",
         "mothbeans"
        ],
        [
         "2082",
         "jute"
        ],
        [
         "889",
         "lentil"
        ],
        [
         "2057",
         "jute"
        ],
        [
         "792",
         "blackgram"
        ],
        [
         "2095",
         "jute"
        ],
        [
         "275",
         "chickpea"
        ],
        [
         "254",
         "chickpea"
        ],
        [
         "306",
         "kidneybeans"
        ],
        [
         "1783",
         "papaya"
        ],
        [
         "1189",
         "mango"
        ],
        [
         "759",
         "blackgram"
        ],
        [
         "168",
         "maize"
        ],
        [
         "668",
         "mungbean"
        ],
        [
         "184",
         "maize"
        ],
        [
         "414",
         "pigeonpeas"
        ],
        [
         "1841",
         "coconut"
        ],
        [
         "1463",
         "muskmelon"
        ],
        [
         "111",
         "maize"
        ]
       ],
       "shape": {
        "columns": 1,
        "rows": 440
       }
      },
      "text/plain": [
       "1451     muskmelon\n",
       "1334    watermelon\n",
       "1761        papaya\n",
       "1735        papaya\n",
       "1576         apple\n",
       "           ...    \n",
       "59            rice\n",
       "71            rice\n",
       "1908        cotton\n",
       "1958        cotton\n",
       "482     pigeonpeas\n",
       "Name: label, Length: 440, dtype: object"
      ]
     },
     "execution_count": 15,
     "metadata": {},
     "output_type": "execute_result"
    }
   ],
   "source": [
    "y_test"
   ]
  }
 ],
 "metadata": {
  "kernelspec": {
   "display_name": "pp",
   "language": "python",
   "name": "python3"
  },
  "language_info": {
   "codemirror_mode": {
    "name": "ipython",
    "version": 3
   },
   "file_extension": ".py",
   "mimetype": "text/x-python",
   "name": "python",
   "nbconvert_exporter": "python",
   "pygments_lexer": "ipython3",
   "version": "3.13.2"
  }
 },
 "nbformat": 4,
 "nbformat_minor": 5
}
